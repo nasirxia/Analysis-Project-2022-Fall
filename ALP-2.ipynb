{
  "nbformat": 4,
  "nbformat_minor": 0,
  "metadata": {
    "colab": {
      "provenance": [],
      "mount_file_id": "https://github.com/nasirxia/Analysis-Project-2022-Fall/blob/main/ALP-2.ipynb",
      "authorship_tag": "ABX9TyMxLngYMsmLXvjlTlGDgaou",
      "include_colab_link": true
    },
    "kernelspec": {
      "name": "python3",
      "display_name": "Python 3"
    },
    "language_info": {
      "name": "python"
    }
  },
  "cells": [
    {
      "cell_type": "markdown",
      "metadata": {
        "id": "view-in-github",
        "colab_type": "text"
      },
      "source": [
        "<a href=\"https://colab.research.google.com/github/nasirxia/Analysis-Project-2022-Fall/blob/main/ALP-2.ipynb\" target=\"_parent\"><img src=\"https://colab.research.google.com/assets/colab-badge.svg\" alt=\"Open In Colab\"/></a>"
      ]
    },
    {
      "cell_type": "code",
      "execution_count": 11,
      "metadata": {
        "colab": {
          "base_uri": "https://localhost:8080/",
          "height": 206
        },
        "id": "MLT14WKp-aCN",
        "outputId": "e7c6653c-dd02-4e3a-9619-2f1f6ade678a"
      },
      "outputs": [
        {
          "output_type": "execute_result",
          "data": {
            "text/plain": [
              "                      ad_exp  product_id    product_brand   sales  \\\n",
              "0         Sponsored Products   224143037  Seattle Gourmet   32.28   \n",
              "1  Don't recall seeing an ad   834182030    Garland Farms   65.49   \n",
              "2  Don't recall seeing an ad   950844039            Doggo  173.97   \n",
              "3         Sponsored Products   378059009            Alpha  127.96   \n",
              "4  Don't recall seeing an ad   151595003            Alpha   48.99   \n",
              "\n",
              "   customer_id gender         city  st    zip      lat       lng  marital  \\\n",
              "0         1223      M   Shreveport  LA  71130  32.6076  -93.7526   Single   \n",
              "1         2946      M       Fresno  CA  93794  36.7464 -119.6397   Single   \n",
              "2         4448      M      Danbury  CT   6816  41.3089  -73.3637   Single   \n",
              "3         4510      F  San Antonio  TX  78215  29.4413  -98.4793  Married   \n",
              "4          370      F        Boise  ID  83711  43.4599 -116.2440  Married   \n",
              "\n",
              "                      education             income    age  prime  \n",
              "0              College graduate  $60,000 - $79,999  55-64      1  \n",
              "1          High school graduate  $60,000 - $79,999  35-44      1  \n",
              "2              College graduate  Less than $20,000  25-34      1  \n",
              "3              College graduate  $20,000 - $39,999  25-34      1  \n",
              "4  Some college or trade school  $80,000 - $99,999  55-64      0  "
            ],
            "text/html": [
              "\n",
              "  <div id=\"df-668d0fc4-e29b-4d90-abab-916292bde9d8\">\n",
              "    <div class=\"colab-df-container\">\n",
              "      <div>\n",
              "<style scoped>\n",
              "    .dataframe tbody tr th:only-of-type {\n",
              "        vertical-align: middle;\n",
              "    }\n",
              "\n",
              "    .dataframe tbody tr th {\n",
              "        vertical-align: top;\n",
              "    }\n",
              "\n",
              "    .dataframe thead th {\n",
              "        text-align: right;\n",
              "    }\n",
              "</style>\n",
              "<table border=\"1\" class=\"dataframe\">\n",
              "  <thead>\n",
              "    <tr style=\"text-align: right;\">\n",
              "      <th></th>\n",
              "      <th>ad_exp</th>\n",
              "      <th>product_id</th>\n",
              "      <th>product_brand</th>\n",
              "      <th>sales</th>\n",
              "      <th>customer_id</th>\n",
              "      <th>gender</th>\n",
              "      <th>city</th>\n",
              "      <th>st</th>\n",
              "      <th>zip</th>\n",
              "      <th>lat</th>\n",
              "      <th>lng</th>\n",
              "      <th>marital</th>\n",
              "      <th>education</th>\n",
              "      <th>income</th>\n",
              "      <th>age</th>\n",
              "      <th>prime</th>\n",
              "    </tr>\n",
              "  </thead>\n",
              "  <tbody>\n",
              "    <tr>\n",
              "      <th>0</th>\n",
              "      <td>Sponsored Products</td>\n",
              "      <td>224143037</td>\n",
              "      <td>Seattle Gourmet</td>\n",
              "      <td>32.28</td>\n",
              "      <td>1223</td>\n",
              "      <td>M</td>\n",
              "      <td>Shreveport</td>\n",
              "      <td>LA</td>\n",
              "      <td>71130</td>\n",
              "      <td>32.6076</td>\n",
              "      <td>-93.7526</td>\n",
              "      <td>Single</td>\n",
              "      <td>College graduate</td>\n",
              "      <td>$60,000 - $79,999</td>\n",
              "      <td>55-64</td>\n",
              "      <td>1</td>\n",
              "    </tr>\n",
              "    <tr>\n",
              "      <th>1</th>\n",
              "      <td>Don't recall seeing an ad</td>\n",
              "      <td>834182030</td>\n",
              "      <td>Garland Farms</td>\n",
              "      <td>65.49</td>\n",
              "      <td>2946</td>\n",
              "      <td>M</td>\n",
              "      <td>Fresno</td>\n",
              "      <td>CA</td>\n",
              "      <td>93794</td>\n",
              "      <td>36.7464</td>\n",
              "      <td>-119.6397</td>\n",
              "      <td>Single</td>\n",
              "      <td>High school graduate</td>\n",
              "      <td>$60,000 - $79,999</td>\n",
              "      <td>35-44</td>\n",
              "      <td>1</td>\n",
              "    </tr>\n",
              "    <tr>\n",
              "      <th>2</th>\n",
              "      <td>Don't recall seeing an ad</td>\n",
              "      <td>950844039</td>\n",
              "      <td>Doggo</td>\n",
              "      <td>173.97</td>\n",
              "      <td>4448</td>\n",
              "      <td>M</td>\n",
              "      <td>Danbury</td>\n",
              "      <td>CT</td>\n",
              "      <td>6816</td>\n",
              "      <td>41.3089</td>\n",
              "      <td>-73.3637</td>\n",
              "      <td>Single</td>\n",
              "      <td>College graduate</td>\n",
              "      <td>Less than $20,000</td>\n",
              "      <td>25-34</td>\n",
              "      <td>1</td>\n",
              "    </tr>\n",
              "    <tr>\n",
              "      <th>3</th>\n",
              "      <td>Sponsored Products</td>\n",
              "      <td>378059009</td>\n",
              "      <td>Alpha</td>\n",
              "      <td>127.96</td>\n",
              "      <td>4510</td>\n",
              "      <td>F</td>\n",
              "      <td>San Antonio</td>\n",
              "      <td>TX</td>\n",
              "      <td>78215</td>\n",
              "      <td>29.4413</td>\n",
              "      <td>-98.4793</td>\n",
              "      <td>Married</td>\n",
              "      <td>College graduate</td>\n",
              "      <td>$20,000 - $39,999</td>\n",
              "      <td>25-34</td>\n",
              "      <td>1</td>\n",
              "    </tr>\n",
              "    <tr>\n",
              "      <th>4</th>\n",
              "      <td>Don't recall seeing an ad</td>\n",
              "      <td>151595003</td>\n",
              "      <td>Alpha</td>\n",
              "      <td>48.99</td>\n",
              "      <td>370</td>\n",
              "      <td>F</td>\n",
              "      <td>Boise</td>\n",
              "      <td>ID</td>\n",
              "      <td>83711</td>\n",
              "      <td>43.4599</td>\n",
              "      <td>-116.2440</td>\n",
              "      <td>Married</td>\n",
              "      <td>Some college or trade school</td>\n",
              "      <td>$80,000 - $99,999</td>\n",
              "      <td>55-64</td>\n",
              "      <td>0</td>\n",
              "    </tr>\n",
              "  </tbody>\n",
              "</table>\n",
              "</div>\n",
              "      <button class=\"colab-df-convert\" onclick=\"convertToInteractive('df-668d0fc4-e29b-4d90-abab-916292bde9d8')\"\n",
              "              title=\"Convert this dataframe to an interactive table.\"\n",
              "              style=\"display:none;\">\n",
              "        \n",
              "  <svg xmlns=\"http://www.w3.org/2000/svg\" height=\"24px\"viewBox=\"0 0 24 24\"\n",
              "       width=\"24px\">\n",
              "    <path d=\"M0 0h24v24H0V0z\" fill=\"none\"/>\n",
              "    <path d=\"M18.56 5.44l.94 2.06.94-2.06 2.06-.94-2.06-.94-.94-2.06-.94 2.06-2.06.94zm-11 1L8.5 8.5l.94-2.06 2.06-.94-2.06-.94L8.5 2.5l-.94 2.06-2.06.94zm10 10l.94 2.06.94-2.06 2.06-.94-2.06-.94-.94-2.06-.94 2.06-2.06.94z\"/><path d=\"M17.41 7.96l-1.37-1.37c-.4-.4-.92-.59-1.43-.59-.52 0-1.04.2-1.43.59L10.3 9.45l-7.72 7.72c-.78.78-.78 2.05 0 2.83L4 21.41c.39.39.9.59 1.41.59.51 0 1.02-.2 1.41-.59l7.78-7.78 2.81-2.81c.8-.78.8-2.07 0-2.86zM5.41 20L4 18.59l7.72-7.72 1.47 1.35L5.41 20z\"/>\n",
              "  </svg>\n",
              "      </button>\n",
              "      \n",
              "  <style>\n",
              "    .colab-df-container {\n",
              "      display:flex;\n",
              "      flex-wrap:wrap;\n",
              "      gap: 12px;\n",
              "    }\n",
              "\n",
              "    .colab-df-convert {\n",
              "      background-color: #E8F0FE;\n",
              "      border: none;\n",
              "      border-radius: 50%;\n",
              "      cursor: pointer;\n",
              "      display: none;\n",
              "      fill: #1967D2;\n",
              "      height: 32px;\n",
              "      padding: 0 0 0 0;\n",
              "      width: 32px;\n",
              "    }\n",
              "\n",
              "    .colab-df-convert:hover {\n",
              "      background-color: #E2EBFA;\n",
              "      box-shadow: 0px 1px 2px rgba(60, 64, 67, 0.3), 0px 1px 3px 1px rgba(60, 64, 67, 0.15);\n",
              "      fill: #174EA6;\n",
              "    }\n",
              "\n",
              "    [theme=dark] .colab-df-convert {\n",
              "      background-color: #3B4455;\n",
              "      fill: #D2E3FC;\n",
              "    }\n",
              "\n",
              "    [theme=dark] .colab-df-convert:hover {\n",
              "      background-color: #434B5C;\n",
              "      box-shadow: 0px 1px 3px 1px rgba(0, 0, 0, 0.15);\n",
              "      filter: drop-shadow(0px 1px 2px rgba(0, 0, 0, 0.3));\n",
              "      fill: #FFFFFF;\n",
              "    }\n",
              "  </style>\n",
              "\n",
              "      <script>\n",
              "        const buttonEl =\n",
              "          document.querySelector('#df-668d0fc4-e29b-4d90-abab-916292bde9d8 button.colab-df-convert');\n",
              "        buttonEl.style.display =\n",
              "          google.colab.kernel.accessAllowed ? 'block' : 'none';\n",
              "\n",
              "        async function convertToInteractive(key) {\n",
              "          const element = document.querySelector('#df-668d0fc4-e29b-4d90-abab-916292bde9d8');\n",
              "          const dataTable =\n",
              "            await google.colab.kernel.invokeFunction('convertToInteractive',\n",
              "                                                     [key], {});\n",
              "          if (!dataTable) return;\n",
              "\n",
              "          const docLinkHtml = 'Like what you see? Visit the ' +\n",
              "            '<a target=\"_blank\" href=https://colab.research.google.com/notebooks/data_table.ipynb>data table notebook</a>'\n",
              "            + ' to learn more about interactive tables.';\n",
              "          element.innerHTML = '';\n",
              "          dataTable['output_type'] = 'display_data';\n",
              "          await google.colab.output.renderOutput(dataTable, element);\n",
              "          const docLink = document.createElement('div');\n",
              "          docLink.innerHTML = docLinkHtml;\n",
              "          element.appendChild(docLink);\n",
              "        }\n",
              "      </script>\n",
              "    </div>\n",
              "  </div>\n",
              "  "
            ]
          },
          "metadata": {},
          "execution_count": 11
        }
      ],
      "source": [
        "\n",
        "import numpy as np\n",
        "import pandas as pd\n",
        "import matplotlib.pyplot as plt\n",
        "import seaborn as sns\n",
        "\n",
        "df = pd.read_csv(\"/content/sample_data/Data0131.csv\")\n",
        "df.drop([\"sale_id\",\"sale_date\",\"product_name\",\"price\",\"qty\"], axis = 1, inplace=True)\n",
        "df.head()\n"
      ]
    },
    {
      "cell_type": "code",
      "source": [
        "#pd.get_dummies(df.ad_exp)\n",
        "#Test if the types of ads differentiate the consumers\n",
        "\n",
        "GroupedData1=df.groupby(by=\"ad_exp\").size() # why size()?\n",
        "print(GroupedData1)\n",
        "GroupedData1.plot.bar()"
      ],
      "metadata": {
        "colab": {
          "base_uri": "https://localhost:8080/",
          "height": 551
        },
        "id": "V5eYDzaW5T0v",
        "outputId": "c6042ab0-3f07-4ab7-e9f0-33078670cd34"
      },
      "execution_count": null,
      "outputs": [
        {
          "output_type": "stream",
          "name": "stdout",
          "text": [
            "ad_exp\n",
            "Display/banner ad            1297\n",
            "Don't recall seeing an ad    3096\n",
            "Some other type of ad          31\n",
            "Sponsored Brands             2520\n",
            "Sponsored Products           2017\n",
            "Video ad                      254\n",
            "dtype: int64\n"
          ]
        },
        {
          "output_type": "execute_result",
          "data": {
            "text/plain": [
              "<matplotlib.axes._subplots.AxesSubplot at 0x7f77a1336400>"
            ]
          },
          "metadata": {},
          "execution_count": 18
        },
        {
          "output_type": "display_data",
          "data": {
            "text/plain": [
              "<Figure size 432x288 with 1 Axes>"
            ],
            "image/png": "[encoded data removed]"
          },
          "metadata": {
            "needs_background": "light"
          }
        }
      ]
    },
    {
      "cell_type": "code",
      "source": [
        "#Test if the types of product differentiate the consumers\n",
        "GroupedData2=df.groupby(by=\"product_id\").size() # why size()?\n",
        "print(GroupedData2.head())\n",
        "len(GroupedData2) #there are 92 different products\n",
        "GroupedData2.plot.line()"
      ],
      "metadata": {
        "colab": {
          "base_uri": "https://localhost:8080/",
          "height": 419
        },
        "id": "acugOLHo904G",
        "outputId": "8d1b5f1f-a7ca-4f38-f1b4-d7169f6b3b06"
      },
      "execution_count": null,
      "outputs": [
        {
          "output_type": "stream",
          "name": "stdout",
          "text": [
            "product_id\n",
            "106645074     40\n",
            "110379090     42\n",
            "118689054     59\n",
            "122451027    113\n",
            "123910010    246\n",
            "dtype: int64\n"
          ]
        },
        {
          "output_type": "execute_result",
          "data": {
            "text/plain": [
              "<matplotlib.axes._subplots.AxesSubplot at 0x7f77a13510a0>"
            ]
          },
          "metadata": {},
          "execution_count": 33
        },
        {
          "output_type": "display_data",
          "data": {
            "text/plain": [
              "<Figure size 432x288 with 1 Axes>"
            ],
            "image/png": "[encoded data removed]"
          },
          "metadata": {
            "needs_background": "light"
          }
        }
      ]
    },
    {
      "cell_type": "code",
      "source": [
        "#Test if the brands differentiate the consumers\n",
        "GroupedData3=df.groupby(by=\"product_brand\").size() # why size()?\n",
        "print(GroupedData3.head())\n",
        "len(GroupedData3) #there are 25 different products\n",
        "GroupedData3.plot.line()"
      ],
      "metadata": {
        "colab": {
          "base_uri": "https://localhost:8080/",
          "height": 419
        },
        "id": "af87trJf_D-W",
        "outputId": "58a16b32-3b0e-42f8-b7d5-6e65efe85cb7"
      },
      "execution_count": null,
      "outputs": [
        {
          "output_type": "stream",
          "name": "stdout",
          "text": [
            "product_brand\n",
            "Alpha        2832\n",
            "Arf           934\n",
            "Astro          94\n",
            "Beam          252\n",
            "Beethoven     108\n",
            "dtype: int64\n"
          ]
        },
        {
          "output_type": "execute_result",
          "data": {
            "text/plain": [
              "<matplotlib.axes._subplots.AxesSubplot at 0x7f77a1336640>"
            ]
          },
          "metadata": {},
          "execution_count": 29
        },
        {
          "output_type": "display_data",
          "data": {
            "text/plain": [
              "<Figure size 432x288 with 1 Axes>"
            ],
            "image/png": "[encoded data removed]"
          },
          "metadata": {
            "needs_background": "light"
          }
        }
      ]
    },
    {
      "cell_type": "code",
      "source": [
        "#Test if sale differentiates the consumers\n",
        "GroupedData4=df.groupby(by=\"sales\").size() # why size()?\n",
        "print(GroupedData4.head())\n",
        "len(GroupedData4) #there are 25 different products\n",
        "GroupedData4.plot.line()"
      ],
      "metadata": {
        "colab": {
          "base_uri": "https://localhost:8080/",
          "height": 418
        },
        "id": "80a2HwXDBvDW",
        "outputId": "11b1d4a1-2357-4eee-8dc8-0856de84704c"
      },
      "execution_count": null,
      "outputs": [
        {
          "output_type": "stream",
          "name": "stdout",
          "text": [
            "sales\n",
            "4.73    17\n",
            "4.98    32\n",
            "6.59    23\n",
            "6.94    35\n",
            "7.31    13\n",
            "dtype: int64\n"
          ]
        },
        {
          "output_type": "execute_result",
          "data": {
            "text/plain": [
              "<matplotlib.axes._subplots.AxesSubplot at 0x7f779f068cd0>"
            ]
          },
          "metadata": {},
          "execution_count": 51
        },
        {
          "output_type": "display_data",
          "data": {
            "text/plain": [
              "<Figure size 432x288 with 1 Axes>"
            ],
            "image/png": "[encoded data removed]"
          },
          "metadata": {}
        }
      ]
    },
    {
      "cell_type": "code",
      "source": [
        "genders = df.gender.value_counts()\n",
        "sns.set_style(\"darkgrid\")\n",
        "plt.figure(figsize=(10,4))\n",
        "sns.barplot(x=genders.index, y=genders.values)\n",
        "plt.show()\n",
        "# Futher check if gender affects other variables in R (Chi-test)"
      ],
      "metadata": {
        "colab": {
          "base_uri": "https://localhost:8080/",
          "height": 265
        },
        "id": "-swqSc58Hv52",
        "outputId": "bec100da-f8e5-434b-e56c-542c410a5b6a"
      },
      "execution_count": null,
      "outputs": [
        {
          "output_type": "display_data",
          "data": {
            "text/plain": [
              "<Figure size 720x288 with 1 Axes>"
            ],
            "image/png": "[encoded data removed]"
          },
          "metadata": {}
        }
      ]
    },
    {
      "cell_type": "code",
      "source": [
        "#Test if marital status differentiates the consumers\n",
        "marrige = df.marital.value_counts()\n",
        "print(marrige)\n",
        "sns.set_style(\"darkgrid\")\n",
        "plt.figure(figsize=(10,4))\n",
        "sns.barplot(x=marrige.index, y=marrige.values)\n",
        "plt.show()"
      ],
      "metadata": {
        "colab": {
          "base_uri": "https://localhost:8080/",
          "height": 334
        },
        "id": "X23ghdpOGXAW",
        "outputId": "91685464-0fb9-4a9a-cea6-49d1d88b2d86"
      },
      "execution_count": null,
      "outputs": [
        {
          "output_type": "stream",
          "name": "stdout",
          "text": [
            "Married                                  4706\n",
            "Single                                   3663\n",
            "Domestic partner/serious relationship     846\n",
            "Name: marital, dtype: int64\n"
          ]
        },
        {
          "output_type": "display_data",
          "data": {
            "text/plain": [
              "<Figure size 720x288 with 1 Axes>"
            ],
            "image/png": "[encoded data removed]"
          },
          "metadata": {}
        }
      ]
    },
    {
      "cell_type": "code",
      "source": [
        "#Test if education level differentiates the consumers\n",
        "education = df.education.value_counts()\n",
        "print(education)\n",
        "sns.set_style(\"darkgrid\")\n",
        "plt.figure(figsize=(10,4))\n",
        "sns.barplot(x=education.index, y=education.values)\n",
        "plt.show()"
      ],
      "metadata": {
        "colab": {
          "base_uri": "https://localhost:8080/",
          "height": 352
        },
        "id": "XZ0q695-HZEe",
        "outputId": "ee52a43a-2e16-4e47-c389-92f8c354d6e9"
      },
      "execution_count": null,
      "outputs": [
        {
          "output_type": "stream",
          "name": "stdout",
          "text": [
            "College graduate                4101\n",
            "Some college or trade school    1946\n",
            "High school graduate            1745\n",
            "Post graduate                   1423\n",
            "Name: education, dtype: int64\n"
          ]
        },
        {
          "output_type": "display_data",
          "data": {
            "text/plain": [
              "<Figure size 720x288 with 1 Axes>"
            ],
            "image/png": "[encoded data removed]"
          },
          "metadata": {}
        }
      ]
    },
    {
      "cell_type": "code",
      "source": [
        "incomebelow20k = df.income[df.income == \"Less than $20,000\"]\n",
        "income20_39 = df.income[df.income == \"$20,000 - $39,999\"]\n",
        "income40_59 = df.income[df.income == \"$40,000 - $59,999\"]\n",
        "income60_79 = df.income[df.income == \"$60,000 - $79,999\"]\n",
        "income80_99 = df.income[df.income == \"$80,000 - $99,999\"]\n",
        "income100kabove = df.income[df.income == \"$100,000 or more\"]\n",
        "\n",
        "print(incomebelow20k)\n",
        "\n",
        "x = [\"Less than $20,000\",\"$20,000 - $39,999\", \"$40,000 - $59,999\",\"$60,000 - $79,999\",\"$80,000 - $99,999\", \"$100,000 or more\",]\n",
        "y = [len(incomebelow20k.values),len(income20_39.values),len(income40_59.values),len(income60_79.values),len(income80_99.values),len(income100kabove.values)] #data is imported by this code\n",
        "\n",
        "plt.figure(figsize=(15,6))\n",
        "sns.barplot(x=x, y=y, palette=\"rocket\")\n",
        "plt.title(\"Number of Customer and Incomes\")\n",
        "plt.xlabel(\"Income\")\n",
        "plt.ylabel(\"Number of Customer\")\n",
        "plt.show()"
      ],
      "metadata": {
        "colab": {
          "base_uri": "https://localhost:8080/",
          "height": 615
        },
        "id": "UFb52x8zIfRW",
        "outputId": "ab3e8e07-4e88-4ebf-cc22-eff085f0053a"
      },
      "execution_count": null,
      "outputs": [
        {
          "output_type": "stream",
          "name": "stdout",
          "text": [
            "2       Less than $20,000\n",
            "18      Less than $20,000\n",
            "30      Less than $20,000\n",
            "39      Less than $20,000\n",
            "52      Less than $20,000\n",
            "              ...        \n",
            "9157    Less than $20,000\n",
            "9166    Less than $20,000\n",
            "9175    Less than $20,000\n",
            "9191    Less than $20,000\n",
            "9206    Less than $20,000\n",
            "Name: income, Length: 587, dtype: object\n"
          ]
        },
        {
          "output_type": "display_data",
          "data": {
            "text/plain": [
              "<Figure size 1080x432 with 1 Axes>"
            ],
            "image/png": "[encoded data removed]"
          },
          "metadata": {}
        }
      ]
    },
    {
      "cell_type": "code",
      "source": [
        "age18_24 = df.age[df.age == \"18-24\"]\n",
        "age25_34 = df.age[df.age == \"25-34\"]\n",
        "age35_44 = df.age[df.age == \"35-44\"]\n",
        "age45_54 = df.age[df.age == \"45-54\"]\n",
        "age55_64 = df.age[df.age == \"55-64\"]\n",
        "age65above = df.age[df.age == \"65+\"]\n",
        "\n",
        "#print(age18_24)\n",
        "#print(len(age18_24.values))\n",
        "\n",
        "\n",
        "\n",
        "x = [\"18-24\",\"25-34\",\"35-44\",\"45-54\",\"55-64\",\"65+\"]\n",
        "y = [len(age18_24.values),len(age25_34.values),len(age35_44.values),len(age45_54.values),len(age55_64.values),len(age65above.values)] #data is imported by this code\n",
        "\n",
        "plt.figure(figsize=(15,6))\n",
        "sns.barplot(x=x, y=y, palette=\"rocket\")\n",
        "plt.title(\"Number of Customer and Ages\")\n",
        "plt.xlabel(\"Age\")\n",
        "plt.ylabel(\"Number of Customer\")\n",
        "plt.show()"
      ],
      "metadata": {
        "colab": {
          "base_uri": "https://localhost:8080/",
          "height": 404
        },
        "id": "x5merjQk_DSk",
        "outputId": "1e3fb87a-17dc-4d2c-8146-26f0e6fb376b"
      },
      "execution_count": null,
      "outputs": [
        {
          "output_type": "display_data",
          "data": {
            "text/plain": [
              "<Figure size 1080x432 with 1 Axes>"
            ],
            "image/png": "[encoded data removed]"
          },
          "metadata": {}
        }
      ]
    },
    {
      "cell_type": "code",
      "source": [
        "prime = df.prime.value_counts()\n",
        "sns.set_style(\"darkgrid\")\n",
        "plt.figure(figsize=(10,4))\n",
        "sns.barplot(x=prime.index, y=prime.values)\n",
        "plt.show()\n",
        "\n",
        "df.head()"
      ],
      "metadata": {
        "colab": {
          "base_uri": "https://localhost:8080/",
          "height": 454
        },
        "id": "4EKkmomEMV12",
        "outputId": "6b84d128-acb3-449d-83a8-0cab21c7945c"
      },
      "execution_count": null,
      "outputs": [
        {
          "output_type": "display_data",
          "data": {
            "text/plain": [
              "<Figure size 720x288 with 1 Axes>"
            ],
            "image/png": "[encoded data removed]"
          },
          "metadata": {}
        },
        {
          "output_type": "execute_result",
          "data": {
            "text/plain": [
              "                      ad_exp  product_id    product_brand   sales  \\\n",
              "0         Sponsored Products   224143037  Seattle Gourmet   32.28   \n",
              "1  Don't recall seeing an ad   834182030    Garland Farms   65.49   \n",
              "2  Don't recall seeing an ad   950844039            Doggo  173.97   \n",
              "3         Sponsored Products   378059009            Alpha  127.96   \n",
              "4  Don't recall seeing an ad   151595003            Alpha   48.99   \n",
              "\n",
              "   customer_id gender         city  st    zip      lat       lng  marital  \\\n",
              "0         1223      M   Shreveport  LA  71130  32.6076  -93.7526   Single   \n",
              "1         2946      M       Fresno  CA  93794  36.7464 -119.6397   Single   \n",
              "2         4448      M      Danbury  CT   6816  41.3089  -73.3637   Single   \n",
              "3         4510      F  San Antonio  TX  78215  29.4413  -98.4793  Married   \n",
              "4          370      F        Boise  ID  83711  43.4599 -116.2440  Married   \n",
              "\n",
              "                      education             income    age  prime  \n",
              "0              College graduate  $60,000 - $79,999  55-64      1  \n",
              "1          High school graduate  $60,000 - $79,999  35-44      1  \n",
              "2              College graduate  Less than $20,000  25-34      1  \n",
              "3              College graduate  $20,000 - $39,999  25-34      1  \n",
              "4  Some college or trade school  $80,000 - $99,999  55-64      0  "
            ],
            "text/html": [
              "\n",
              "  <div id=\"df-79e46e62-49d2-4dca-8613-64dcd1e03129\">\n",
              "    <div class=\"colab-df-container\">\n",
              "      <div>\n",
              "<style scoped>\n",
              "    .dataframe tbody tr th:only-of-type {\n",
              "        vertical-align: middle;\n",
              "    }\n",
              "\n",
              "    .dataframe tbody tr th {\n",
              "        vertical-align: top;\n",
              "    }\n",
              "\n",
              "    .dataframe thead th {\n",
              "        text-align: right;\n",
              "    }\n",
              "</style>\n",
              "<table border=\"1\" class=\"dataframe\">\n",
              "  <thead>\n",
              "    <tr style=\"text-align: right;\">\n",
              "      <th></th>\n",
              "      <th>ad_exp</th>\n",
              "      <th>product_id</th>\n",
              "      <th>product_brand</th>\n",
              "      <th>sales</th>\n",
              "      <th>customer_id</th>\n",
              "      <th>gender</th>\n",
              "      <th>city</th>\n",
              "      <th>st</th>\n",
              "      <th>zip</th>\n",
              "      <th>lat</th>\n",
              "      <th>lng</th>\n",
              "      <th>marital</th>\n",
              "      <th>education</th>\n",
              "      <th>income</th>\n",
              "      <th>age</th>\n",
              "      <th>prime</th>\n",
              "    </tr>\n",
              "  </thead>\n",
              "  <tbody>\n",
              "    <tr>\n",
              "      <th>0</th>\n",
              "      <td>Sponsored Products</td>\n",
              "      <td>224143037</td>\n",
              "      <td>Seattle Gourmet</td>\n",
              "      <td>32.28</td>\n",
              "      <td>1223</td>\n",
              "      <td>M</td>\n",
              "      <td>Shreveport</td>\n",
              "      <td>LA</td>\n",
              "      <td>71130</td>\n",
              "      <td>32.6076</td>\n",
              "      <td>-93.7526</td>\n",
              "      <td>Single</td>\n",
              "      <td>College graduate</td>\n",
              "      <td>$60,000 - $79,999</td>\n",
              "      <td>55-64</td>\n",
              "      <td>1</td>\n",
              "    </tr>\n",
              "    <tr>\n",
              "      <th>1</th>\n",
              "      <td>Don't recall seeing an ad</td>\n",
              "      <td>834182030</td>\n",
              "      <td>Garland Farms</td>\n",
              "      <td>65.49</td>\n",
              "      <td>2946</td>\n",
              "      <td>M</td>\n",
              "      <td>Fresno</td>\n",
              "      <td>CA</td>\n",
              "      <td>93794</td>\n",
              "      <td>36.7464</td>\n",
              "      <td>-119.6397</td>\n",
              "      <td>Single</td>\n",
              "      <td>High school graduate</td>\n",
              "      <td>$60,000 - $79,999</td>\n",
              "      <td>35-44</td>\n",
              "      <td>1</td>\n",
              "    </tr>\n",
              "    <tr>\n",
              "      <th>2</th>\n",
              "      <td>Don't recall seeing an ad</td>\n",
              "      <td>950844039</td>\n",
              "      <td>Doggo</td>\n",
              "      <td>173.97</td>\n",
              "      <td>4448</td>\n",
              "      <td>M</td>\n",
              "      <td>Danbury</td>\n",
              "      <td>CT</td>\n",
              "      <td>6816</td>\n",
              "      <td>41.3089</td>\n",
              "      <td>-73.3637</td>\n",
              "      <td>Single</td>\n",
              "      <td>College graduate</td>\n",
              "      <td>Less than $20,000</td>\n",
              "      <td>25-34</td>\n",
              "      <td>1</td>\n",
              "    </tr>\n",
              "    <tr>\n",
              "      <th>3</th>\n",
              "      <td>Sponsored Products</td>\n",
              "      <td>378059009</td>\n",
              "      <td>Alpha</td>\n",
              "      <td>127.96</td>\n",
              "      <td>4510</td>\n",
              "      <td>F</td>\n",
              "      <td>San Antonio</td>\n",
              "      <td>TX</td>\n",
              "      <td>78215</td>\n",
              "      <td>29.4413</td>\n",
              "      <td>-98.4793</td>\n",
              "      <td>Married</td>\n",
              "      <td>College graduate</td>\n",
              "      <td>$20,000 - $39,999</td>\n",
              "      <td>25-34</td>\n",
              "      <td>1</td>\n",
              "    </tr>\n",
              "    <tr>\n",
              "      <th>4</th>\n",
              "      <td>Don't recall seeing an ad</td>\n",
              "      <td>151595003</td>\n",
              "      <td>Alpha</td>\n",
              "      <td>48.99</td>\n",
              "      <td>370</td>\n",
              "      <td>F</td>\n",
              "      <td>Boise</td>\n",
              "      <td>ID</td>\n",
              "      <td>83711</td>\n",
              "      <td>43.4599</td>\n",
              "      <td>-116.2440</td>\n",
              "      <td>Married</td>\n",
              "      <td>Some college or trade school</td>\n",
              "      <td>$80,000 - $99,999</td>\n",
              "      <td>55-64</td>\n",
              "      <td>0</td>\n",
              "    </tr>\n",
              "  </tbody>\n",
              "</table>\n",
              "</div>\n",
              "      <button class=\"colab-df-convert\" onclick=\"convertToInteractive('df-79e46e62-49d2-4dca-8613-64dcd1e03129')\"\n",
              "              title=\"Convert this dataframe to an interactive table.\"\n",
              "              style=\"display:none;\">\n",
              "        \n",
              "  <svg xmlns=\"http://www.w3.org/2000/svg\" height=\"24px\"viewBox=\"0 0 24 24\"\n",
              "       width=\"24px\">\n",
              "    <path d=\"M0 0h24v24H0V0z\" fill=\"none\"/>\n",
              "    <path d=\"M18.56 5.44l.94 2.06.94-2.06 2.06-.94-2.06-.94-.94-2.06-.94 2.06-2.06.94zm-11 1L8.5 8.5l.94-2.06 2.06-.94-2.06-.94L8.5 2.5l-.94 2.06-2.06.94zm10 10l.94 2.06.94-2.06 2.06-.94-2.06-.94-.94-2.06-.94 2.06-2.06.94z\"/><path d=\"M17.41 7.96l-1.37-1.37c-.4-.4-.92-.59-1.43-.59-.52 0-1.04.2-1.43.59L10.3 9.45l-7.72 7.72c-.78.78-.78 2.05 0 2.83L4 21.41c.39.39.9.59 1.41.59.51 0 1.02-.2 1.41-.59l7.78-7.78 2.81-2.81c.8-.78.8-2.07 0-2.86zM5.41 20L4 18.59l7.72-7.72 1.47 1.35L5.41 20z\"/>\n",
              "  </svg>\n",
              "      </button>\n",
              "      \n",
              "  <style>\n",
              "    .colab-df-container {\n",
              "      display:flex;\n",
              "      flex-wrap:wrap;\n",
              "      gap: 12px;\n",
              "    }\n",
              "\n",
              "    .colab-df-convert {\n",
              "      background-color: #E8F0FE;\n",
              "      border: none;\n",
              "      border-radius: 50%;\n",
              "      cursor: pointer;\n",
              "      display: none;\n",
              "      fill: #1967D2;\n",
              "      height: 32px;\n",
              "      padding: 0 0 0 0;\n",
              "      width: 32px;\n",
              "    }\n",
              "\n",
              "    .colab-df-convert:hover {\n",
              "      background-color: #E2EBFA;\n",
              "      box-shadow: 0px 1px 2px rgba(60, 64, 67, 0.3), 0px 1px 3px 1px rgba(60, 64, 67, 0.15);\n",
              "      fill: #174EA6;\n",
              "    }\n",
              "\n",
              "    [theme=dark] .colab-df-convert {\n",
              "      background-color: #3B4455;\n",
              "      fill: #D2E3FC;\n",
              "    }\n",
              "\n",
              "    [theme=dark] .colab-df-convert:hover {\n",
              "      background-color: #434B5C;\n",
              "      box-shadow: 0px 1px 3px 1px rgba(0, 0, 0, 0.15);\n",
              "      filter: drop-shadow(0px 1px 2px rgba(0, 0, 0, 0.3));\n",
              "      fill: #FFFFFF;\n",
              "    }\n",
              "  </style>\n",
              "\n",
              "      <script>\n",
              "        const buttonEl =\n",
              "          document.querySelector('#df-79e46e62-49d2-4dca-8613-64dcd1e03129 button.colab-df-convert');\n",
              "        buttonEl.style.display =\n",
              "          google.colab.kernel.accessAllowed ? 'block' : 'none';\n",
              "\n",
              "        async function convertToInteractive(key) {\n",
              "          const element = document.querySelector('#df-79e46e62-49d2-4dca-8613-64dcd1e03129');\n",
              "          const dataTable =\n",
              "            await google.colab.kernel.invokeFunction('convertToInteractive',\n",
              "                                                     [key], {});\n",
              "          if (!dataTable) return;\n",
              "\n",
              "          const docLinkHtml = 'Like what you see? Visit the ' +\n",
              "            '<a target=\"_blank\" href=https://colab.research.google.com/notebooks/data_table.ipynb>data table notebook</a>'\n",
              "            + ' to learn more about interactive tables.';\n",
              "          element.innerHTML = '';\n",
              "          dataTable['output_type'] = 'display_data';\n",
              "          await google.colab.output.renderOutput(dataTable, element);\n",
              "          const docLink = document.createElement('div');\n",
              "          docLink.innerHTML = docLinkHtml;\n",
              "          element.appendChild(docLink);\n",
              "        }\n",
              "      </script>\n",
              "    </div>\n",
              "  </div>\n",
              "  "
            ]
          },
          "metadata": {},
          "execution_count": 49
        }
      ]
    },
    {
      "cell_type": "code",
      "source": [
        "#ad_exp, produc_brand, sales, gender, st, marital, education, income, age, prime, these variables may be considered in segmenting the customers\n",
        "#convert categotical string-typed variables into numeric\n",
        "\n",
        "df['ad_exp'].replace(['Display/banner ad', \n",
        "                      \"Don't recall seeing an ad\",\n",
        "                      'Some other type of ad',\n",
        "                      'Sponsored Brands',\n",
        "                      'Sponsored Products', \n",
        "                      'Video ad'],\n",
        "                        [0, 1, 2, 3, 4, 5], inplace=True)\n",
        "\n",
        "categories_brand = list(df['product_brand'].value_counts().index)\n",
        "df['product_brand'].replace(categories_brand,\n",
        "                    list(range(df['product_brand'].value_counts().count())), inplace=True)\n",
        "\n",
        "df['gender'].replace([\"M\",\"F\"],\n",
        "                     [1,0], inplace=True)\n",
        "\n",
        "categories_st = list(df['st'].value_counts().index)\n",
        "df['st'].replace(categories_st,\n",
        "                    list(range(df['st'].value_counts().count())), inplace=True)\n",
        "\n",
        "df['marital'].replace([\"Single\",\"Married\",\"Domestic partner/serious relationship\"],\n",
        "                     [0,1,2], inplace=True)\n",
        "\n",
        "categories_education = list(df['education'].value_counts().index)\n",
        "df['education'].replace(categories_education,\n",
        "                    list(range(df['education'].value_counts().count())), inplace=True)\n",
        "\n",
        "categories_income = list(df['income'].value_counts().index)\n",
        "df['income'].replace(categories_income,\n",
        "                    list(range(df['income'].value_counts().count())), inplace=True)\n",
        "\n",
        "categories_age = list(df['age'].value_counts().index)\n",
        "df['age'].replace(categories_age,\n",
        "                    list(range(df['age'].value_counts().count())), inplace=True)\n",
        "\n",
        "categories_prime = list(df['prime'].value_counts().index)\n",
        "df['prime'].replace(categories_prime,\n",
        "                    list(range(df['prime'].value_counts().count())), inplace=True)\n",
        "\n",
        "#ad_exp, produc_brand, sales, gender, st, marital, education, income, age, prime, these variables may be considered in segmenting the customers\n",
        "#drop excessive variables\n",
        "df.drop([\"product_id\",\"customer_id\",\"city\",\"zip\",\"lat\",\"lng\"], axis = 1, inplace=True)\n",
        "\n",
        "df.head()\n",
        "\n",
        " \n"
      ],
      "metadata": {
        "id": "r2tCr-W9Y2kT",
        "outputId": "ba8538e5-7ae7-42f5-f491-1bfa33ad9283",
        "colab": {
          "base_uri": "https://localhost:8080/",
          "height": 206
        }
      },
      "execution_count": 42,
      "outputs": [
        {
          "output_type": "execute_result",
          "data": {
            "text/plain": [
              "   ad_exp  product_brand   sales  gender  st  marital  education  income  age  \\\n",
              "0       4              6   32.28       1  15        0          0       2    2   \n",
              "1       1              5   65.49       1   1        0          2       2    0   \n",
              "2       1             17  173.97       1  24        0          0       5    4   \n",
              "3       4              0  127.96       0   0        1          0       4    4   \n",
              "4       1              0   48.99       0  35        1          1       1    2   \n",
              "\n",
              "   prime  \n",
              "0      0  \n",
              "1      0  \n",
              "2      0  \n",
              "3      0  \n",
              "4      1  "
            ],
            "text/html": [
              "\n",
              "  <div id=\"df-9ab313d5-f735-491d-a213-7d4fb31596cf\">\n",
              "    <div class=\"colab-df-container\">\n",
              "      <div>\n",
              "<style scoped>\n",
              "    .dataframe tbody tr th:only-of-type {\n",
              "        vertical-align: middle;\n",
              "    }\n",
              "\n",
              "    .dataframe tbody tr th {\n",
              "        vertical-align: top;\n",
              "    }\n",
              "\n",
              "    .dataframe thead th {\n",
              "        text-align: right;\n",
              "    }\n",
              "</style>\n",
              "<table border=\"1\" class=\"dataframe\">\n",
              "  <thead>\n",
              "    <tr style=\"text-align: right;\">\n",
              "      <th></th>\n",
              "      <th>ad_exp</th>\n",
              "      <th>product_brand</th>\n",
              "      <th>sales</th>\n",
              "      <th>gender</th>\n",
              "      <th>st</th>\n",
              "      <th>marital</th>\n",
              "      <th>education</th>\n",
              "      <th>income</th>\n",
              "      <th>age</th>\n",
              "      <th>prime</th>\n",
              "    </tr>\n",
              "  </thead>\n",
              "  <tbody>\n",
              "    <tr>\n",
              "      <th>0</th>\n",
              "      <td>4</td>\n",
              "      <td>6</td>\n",
              "      <td>32.28</td>\n",
              "      <td>1</td>\n",
              "      <td>15</td>\n",
              "      <td>0</td>\n",
              "      <td>0</td>\n",
              "      <td>2</td>\n",
              "      <td>2</td>\n",
              "      <td>0</td>\n",
              "    </tr>\n",
              "    <tr>\n",
              "      <th>1</th>\n",
              "      <td>1</td>\n",
              "      <td>5</td>\n",
              "      <td>65.49</td>\n",
              "      <td>1</td>\n",
              "      <td>1</td>\n",
              "      <td>0</td>\n",
              "      <td>2</td>\n",
              "      <td>2</td>\n",
              "      <td>0</td>\n",
              "      <td>0</td>\n",
              "    </tr>\n",
              "    <tr>\n",
              "      <th>2</th>\n",
              "      <td>1</td>\n",
              "      <td>17</td>\n",
              "      <td>173.97</td>\n",
              "      <td>1</td>\n",
              "      <td>24</td>\n",
              "      <td>0</td>\n",
              "      <td>0</td>\n",
              "      <td>5</td>\n",
              "      <td>4</td>\n",
              "      <td>0</td>\n",
              "    </tr>\n",
              "    <tr>\n",
              "      <th>3</th>\n",
              "      <td>4</td>\n",
              "      <td>0</td>\n",
              "      <td>127.96</td>\n",
              "      <td>0</td>\n",
              "      <td>0</td>\n",
              "      <td>1</td>\n",
              "      <td>0</td>\n",
              "      <td>4</td>\n",
              "      <td>4</td>\n",
              "      <td>0</td>\n",
              "    </tr>\n",
              "    <tr>\n",
              "      <th>4</th>\n",
              "      <td>1</td>\n",
              "      <td>0</td>\n",
              "      <td>48.99</td>\n",
              "      <td>0</td>\n",
              "      <td>35</td>\n",
              "      <td>1</td>\n",
              "      <td>1</td>\n",
              "      <td>1</td>\n",
              "      <td>2</td>\n",
              "      <td>1</td>\n",
              "    </tr>\n",
              "  </tbody>\n",
              "</table>\n",
              "</div>\n",
              "      <button class=\"colab-df-convert\" onclick=\"convertToInteractive('df-9ab313d5-f735-491d-a213-7d4fb31596cf')\"\n",
              "              title=\"Convert this dataframe to an interactive table.\"\n",
              "              style=\"display:none;\">\n",
              "        \n",
              "  <svg xmlns=\"http://www.w3.org/2000/svg\" height=\"24px\"viewBox=\"0 0 24 24\"\n",
              "       width=\"24px\">\n",
              "    <path d=\"M0 0h24v24H0V0z\" fill=\"none\"/>\n",
              "    <path d=\"M18.56 5.44l.94 2.06.94-2.06 2.06-.94-2.06-.94-.94-2.06-.94 2.06-2.06.94zm-11 1L8.5 8.5l.94-2.06 2.06-.94-2.06-.94L8.5 2.5l-.94 2.06-2.06.94zm10 10l.94 2.06.94-2.06 2.06-.94-2.06-.94-.94-2.06-.94 2.06-2.06.94z\"/><path d=\"M17.41 7.96l-1.37-1.37c-.4-.4-.92-.59-1.43-.59-.52 0-1.04.2-1.43.59L10.3 9.45l-7.72 7.72c-.78.78-.78 2.05 0 2.83L4 21.41c.39.39.9.59 1.41.59.51 0 1.02-.2 1.41-.59l7.78-7.78 2.81-2.81c.8-.78.8-2.07 0-2.86zM5.41 20L4 18.59l7.72-7.72 1.47 1.35L5.41 20z\"/>\n",
              "  </svg>\n",
              "      </button>\n",
              "      \n",
              "  <style>\n",
              "    .colab-df-container {\n",
              "      display:flex;\n",
              "      flex-wrap:wrap;\n",
              "      gap: 12px;\n",
              "    }\n",
              "\n",
              "    .colab-df-convert {\n",
              "      background-color: #E8F0FE;\n",
              "      border: none;\n",
              "      border-radius: 50%;\n",
              "      cursor: pointer;\n",
              "      display: none;\n",
              "      fill: #1967D2;\n",
              "      height: 32px;\n",
              "      padding: 0 0 0 0;\n",
              "      width: 32px;\n",
              "    }\n",
              "\n",
              "    .colab-df-convert:hover {\n",
              "      background-color: #E2EBFA;\n",
              "      box-shadow: 0px 1px 2px rgba(60, 64, 67, 0.3), 0px 1px 3px 1px rgba(60, 64, 67, 0.15);\n",
              "      fill: #174EA6;\n",
              "    }\n",
              "\n",
              "    [theme=dark] .colab-df-convert {\n",
              "      background-color: #3B4455;\n",
              "      fill: #D2E3FC;\n",
              "    }\n",
              "\n",
              "    [theme=dark] .colab-df-convert:hover {\n",
              "      background-color: #434B5C;\n",
              "      box-shadow: 0px 1px 3px 1px rgba(0, 0, 0, 0.15);\n",
              "      filter: drop-shadow(0px 1px 2px rgba(0, 0, 0, 0.3));\n",
              "      fill: #FFFFFF;\n",
              "    }\n",
              "  </style>\n",
              "\n",
              "      <script>\n",
              "        const buttonEl =\n",
              "          document.querySelector('#df-9ab313d5-f735-491d-a213-7d4fb31596cf button.colab-df-convert');\n",
              "        buttonEl.style.display =\n",
              "          google.colab.kernel.accessAllowed ? 'block' : 'none';\n",
              "\n",
              "        async function convertToInteractive(key) {\n",
              "          const element = document.querySelector('#df-9ab313d5-f735-491d-a213-7d4fb31596cf');\n",
              "          const dataTable =\n",
              "            await google.colab.kernel.invokeFunction('convertToInteractive',\n",
              "                                                     [key], {});\n",
              "          if (!dataTable) return;\n",
              "\n",
              "          const docLinkHtml = 'Like what you see? Visit the ' +\n",
              "            '<a target=\"_blank\" href=https://colab.research.google.com/notebooks/data_table.ipynb>data table notebook</a>'\n",
              "            + ' to learn more about interactive tables.';\n",
              "          element.innerHTML = '';\n",
              "          dataTable['output_type'] = 'display_data';\n",
              "          await google.colab.output.renderOutput(dataTable, element);\n",
              "          const docLink = document.createElement('div');\n",
              "          docLink.innerHTML = docLinkHtml;\n",
              "          element.appendChild(docLink);\n",
              "        }\n",
              "      </script>\n",
              "    </div>\n",
              "  </div>\n",
              "  "
            ]
          },
          "metadata": {},
          "execution_count": 42
        }
      ]
    },
    {
      "cell_type": "code",
      "source": [
        "#list(df['product_brand'].value_counts().index) #问: 后缀的命名方式？"
      ],
      "metadata": {
        "id": "7F4qvKiqeVWr"
      },
      "execution_count": null,
      "outputs": []
    },
    {
      "cell_type": "code",
      "source": [
        "from sklearn.cluster import KMeans\n",
        "wcss = []\n",
        "for k in range(1,11):\n",
        "    kmeans = KMeans(n_clusters=k, init=\"k-means++\")\n",
        "    kmeans.fit(df.iloc[:,:])\n",
        "    wcss.append(kmeans.inertia_)\n",
        "plt.figure(figsize=(12,6))    \n",
        "plt.grid()\n",
        "plt.plot(range(1,11),wcss, linewidth=2, color=\"red\", marker =\"8\")\n",
        "plt.xlabel(\"K Value\")\n",
        "plt.xticks(np.arange(1,11,1))\n",
        "plt.ylabel(\"WCSS\")\n",
        "plt.show()"
      ],
      "metadata": {
        "colab": {
          "base_uri": "https://localhost:8080/",
          "height": 399
        },
        "id": "ht1ITAD7Ql2j",
        "outputId": "51c6cf0e-3e59-4dab-9202-670224318e8a"
      },
      "execution_count": 43,
      "outputs": [
        {
          "output_type": "display_data",
          "data": {
            "text/plain": [
              "<Figure size 864x432 with 1 Axes>"
            ],
            "image/png": "[encoded data removed]"
          },
          "metadata": {
            "needs_background": "light"
          }
        }
      ]
    }
  ]
}